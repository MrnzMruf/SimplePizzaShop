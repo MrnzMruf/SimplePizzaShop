{
  "nbformat": 4,
  "nbformat_minor": 0,
  "metadata": {
    "colab": {
      "provenance": [],
      "authorship_tag": "ABX9TyNVTYN0AXXZ7FdcyIoSCPqV",
      "include_colab_link": true
    },
    "kernelspec": {
      "name": "python3",
      "display_name": "Python 3"
    },
    "language_info": {
      "name": "python"
    }
  },
  "cells": [
    {
      "cell_type": "markdown",
      "metadata": {
        "id": "view-in-github",
        "colab_type": "text"
      },
      "source": [
        "<a href=\"https://colab.research.google.com/github/MrnzMruf/SimplePizzaShop/blob/main/PizzaShop.ipynb\" target=\"_parent\"><img src=\"https://colab.research.google.com/assets/colab-badge.svg\" alt=\"Open In Colab\"/></a>"
      ]
    },
    {
      "cell_type": "code",
      "execution_count": null,
      "metadata": {
        "id": "KEZSV0h3ijFb"
      },
      "outputs": [],
      "source": [
        "# Pizza Shop\n",
        "print(\"Wellcome to pizza shop\\n**********************\\n\")\n",
        "bill = 0\n",
        "pizza_type = input(\"Which one size do you want?\\n(1)Small pizza\\n(2)Medium pizza\\n(3)Large pizza\\nYour Choose is:\").lower()\n",
        "################################### Start of First if (choose size of pizza)\n",
        "if pizza_type == \"small\" or pizza_type == \"1\" :\n",
        "    bill = 10\n",
        "elif pizza_type == \"medium\" or pizza_type == \"2\":\n",
        "    bill = 15\n",
        "elif pizza_type == \"large\" or pizza_type == \"3\":\n",
        "    bill = 20\n",
        "else:\n",
        "    \"We have no this please check another options\"\n",
        "################################### End of Fisrt if\n",
        "print(\"**********************\")\n",
        "print(\"There is Some Option here that you can choose them If you want\")\n",
        "add_cheese = input(\"Do you want cheese, too?(yes/no) \").lower()\n",
        "########################## Start of Cheese if\n",
        "if add_cheese == \"yes\":\n",
        "    bill += 2\n",
        "else:\n",
        "    \"Please check another options\"\n",
        "######################### End of Cheese if \n",
        "######################### Start of potato if\n",
        "print(\"**********************\")\n",
        "add_potato = input(\"Do you want potato, too?(yes/no) \").lower()\n",
        "if add_potato == \"yes\":\n",
        "    potato_type = input(\"Which type do you want?\\n(1)VIP\\n(2)Normal\\nYour choose is: \").lower()\n",
        "    ##################### Start of type_potato if\n",
        "    if potato_type == \"vip\" or potato_type == \"1\":\n",
        "        bill += 5\n",
        "    elif potato_type == \"normal\" or potato_type == \"2\":\n",
        "        bill += 2\n",
        "    else:\n",
        "        \"Please check your order\"\n",
        "    ##################### End of type_potato if\n",
        "else:\n",
        "    print(\"Please check your order\")\n",
        "######################## End of potato if\n",
        "print(\"**********************\")\n",
        "print(f\"Your Bill is {bill}\\n\\nThank You :) We are waiting for your next visit\")"
      ]
    }
  ]
}